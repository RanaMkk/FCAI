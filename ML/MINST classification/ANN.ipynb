{
 "cells": [
  {
   "cell_type": "code",
   "execution_count": 7,
   "metadata": {},
   "outputs": [],
   "source": [
    "import pandas as pd\n",
    "import numpy as np\n",
    "from matplotlib import pyplot as plt\n",
    "from sklearn.model_selection import train_test_split\n",
    "from skimage.transform import resize\n",
    "from sklearn.neighbors import KNeighborsClassifier\n",
    "from sklearn.model_selection import GridSearchCV\n",
    "from sklearn.metrics import accuracy_score, classification_report"
   ]
  },
  {
   "cell_type": "code",
   "execution_count": 8,
   "metadata": {},
   "outputs": [
    {
     "name": "stdout",
     "output_type": "stream",
     "text": [
      "       label  1x1  1x2  1x3  1x4  1x5  1x6  1x7  1x8  1x9  ...  28x19  28x20  \\\n",
      "0          5    0    0    0    0    0    0    0    0    0  ...      0      0   \n",
      "1          0    0    0    0    0    0    0    0    0    0  ...      0      0   \n",
      "2          4    0    0    0    0    0    0    0    0    0  ...      0      0   \n",
      "3          1    0    0    0    0    0    0    0    0    0  ...      0      0   \n",
      "4          9    0    0    0    0    0    0    0    0    0  ...      0      0   \n",
      "...      ...  ...  ...  ...  ...  ...  ...  ...  ...  ...  ...    ...    ...   \n",
      "59995      8    0    0    0    0    0    0    0    0    0  ...      0      0   \n",
      "59996      3    0    0    0    0    0    0    0    0    0  ...      0      0   \n",
      "59997      5    0    0    0    0    0    0    0    0    0  ...      0      0   \n",
      "59998      6    0    0    0    0    0    0    0    0    0  ...      0      0   \n",
      "59999      8    0    0    0    0    0    0    0    0    0  ...      0      0   \n",
      "\n",
      "       28x21  28x22  28x23  28x24  28x25  28x26  28x27  28x28  \n",
      "0          0      0      0      0      0      0      0      0  \n",
      "1          0      0      0      0      0      0      0      0  \n",
      "2          0      0      0      0      0      0      0      0  \n",
      "3          0      0      0      0      0      0      0      0  \n",
      "4          0      0      0      0      0      0      0      0  \n",
      "...      ...    ...    ...    ...    ...    ...    ...    ...  \n",
      "59995      0      0      0      0      0      0      0      0  \n",
      "59996      0      0      0      0      0      0      0      0  \n",
      "59997      0      0      0      0      0      0      0      0  \n",
      "59998      0      0      0      0      0      0      0      0  \n",
      "59999      0      0      0      0      0      0      0      0  \n",
      "\n",
      "[60000 rows x 785 columns]\n",
      "label    int64\n",
      "1x1      int64\n",
      "1x2      int64\n",
      "1x3      int64\n",
      "1x4      int64\n",
      "         ...  \n",
      "28x24    int64\n",
      "28x25    int64\n",
      "28x26    int64\n",
      "28x27    int64\n",
      "28x28    int64\n",
      "Length: 785, dtype: object\n",
      "data set shape: (60000, 785)\n",
      "----------------------\n",
      "Number of unique classes: 10\n",
      "----------------------\n",
      "Number of features (pixels): 784\n",
      "----------------------\n",
      "Missing values:\n",
      "label    0\n",
      "1x1      0\n",
      "1x2      0\n",
      "1x3      0\n",
      "1x4      0\n",
      "        ..\n",
      "28x24    0\n",
      "28x25    0\n",
      "28x26    0\n",
      "28x27    0\n",
      "28x28    0\n",
      "Length: 785, dtype: int64\n",
      "----------------------\n"
     ]
    },
    {
     "data": {
      "image/png": "[encoded data removed]",
      "text/plain": [
       "<Figure size 720x216 with 4 Axes>"
      ]
     },
     "metadata": {},
     "output_type": "display_data"
    }
   ],
   "source": [
    "#data preprocessing\n",
    "#Load the \"mnist_train.csv\" dataset.\n",
    "data = pd.read_csv(\"mnist_train.csv\")\n",
    "\n",
    "print(data)\n",
    "print(data.dtypes)\n",
    "print(\"data set shape:\", data.shape)\n",
    "print('----------------------')\n",
    "\n",
    "x = data.drop(columns=['label'])\n",
    "y = data['label']\n",
    "\n",
    "\n",
    "num_classes = y.nunique()\n",
    "print(\"Number of unique classes:\",num_classes)\n",
    "print('----------------------')\n",
    "\n",
    "num_features = len(x.columns)\n",
    "print(\"Number of features (pixels):\", num_features)\n",
    "print('----------------------')\n",
    "\n",
    "# Check whether there are missing values\n",
    "missing_values = data.isnull().sum()\n",
    "print('Missing values:')\n",
    "print(missing_values)\n",
    "print('----------------------')\n",
    "\n",
    "#Normalize each image by dividing each pixel by 255.\n",
    "x=x/255\n",
    "\n",
    "\n",
    "resized_image=[]\n",
    "for i in range(len(x)):\n",
    "    img = np.array(x.loc[i]).reshape(28, 28)\n",
    "    resized_img = resize(img, (28, 28))\n",
    "    resized_image.append(resized_img.flatten())\n",
    "\n",
    "fig, axes = plt.subplots(1,4 , figsize=(10, 3))\n",
    "for i in range(4):\n",
    "    img = resized_image[i].reshape(28, 28)\n",
    "    axes[i].imshow(img)\n",
    "    axes[i].axis('off')\n",
    "plt.show()\n",
    "\n",
    "x_train, x_test, y_train, y_test = train_test_split(x, y, test_size=0.2, random_state=100)\n"
   ]
  },
  {
   "cell_type": "code",
   "execution_count": 9,
   "metadata": {},
   "outputs": [],
   "source": [
    "#Traning a Neural network\n",
    "from sklearn.neural_network import MLPClassifier\n",
    "\n",
    "# Define the first ANN architecture\n",
    "ann1 = MLPClassifier(\n",
    "    hidden_layer_sizes=(100,), \n",
    "    max_iter=500,  \n",
    "    random_state=100\n",
    ")\n"
   ]
  },
  {
   "cell_type": "code",
   "execution_count": 11,
   "metadata": {},
   "outputs": [
    {
     "data": {
      "text/plain": [
       "MLPClassifier(max_iter=500, random_state=100)"
      ]
     },
     "execution_count": 11,
     "metadata": {},
     "output_type": "execute_result"
    }
   ],
   "source": [
    "# Train the first ANN\n",
    "ann1.fit(x_train, y_train)"
   ]
  },
  {
   "cell_type": "code",
   "execution_count": 12,
   "metadata": {},
   "outputs": [],
   "source": [
    "# Evaluate the first ANN on the validation set\n",
    "y_pred_ann1 = ann1.predict(x_test)"
   ]
  },
  {
   "cell_type": "code",
   "execution_count": 14,
   "metadata": {},
   "outputs": [
    {
     "name": "stdout",
     "output_type": "stream",
     "text": [
      "Accuracy (ANN1): 97.175 %\n"
     ]
    }
   ],
   "source": [
    "accuracy_ann1 = accuracy_score(y_test, y_pred_ann1)\n",
    "print(\"Accuracy (ANN1):\", (accuracy_ann1*100), \"%\")"
   ]
  },
  {
   "cell_type": "code",
   "execution_count": 15,
   "metadata": {},
   "outputs": [],
   "source": [
    "# Define the second ANN architecture with different hyperparameters\n",
    "ann2 = MLPClassifier(\n",
    "    hidden_layer_sizes=(50,),    # Single hidden layer with 50 neurons\n",
    "    learning_rate_init=0.01,      # Initial learning rate\n",
    "    batch_size=128,               # Batch size\n",
    "    max_iter=500,                 # Maximum number of iterations\n",
    "    random_state=100\n",
    ")"
   ]
  },
  {
   "cell_type": "code",
   "execution_count": 16,
   "metadata": {},
   "outputs": [
    {
     "data": {
      "text/plain": [
       "MLPClassifier(batch_size=128, hidden_layer_sizes=(50,), learning_rate_init=0.01,\n",
       "              max_iter=500, random_state=100)"
      ]
     },
     "execution_count": 16,
     "metadata": {},
     "output_type": "execute_result"
    }
   ],
   "source": [
    "# Train the second ANN\n",
    "ann2.fit(x_train, y_train)"
   ]
  },
  {
   "cell_type": "code",
   "execution_count": 17,
   "metadata": {},
   "outputs": [],
   "source": [
    "# Evaluate the second ANN on the validation set\n",
    "y_pred_ann2 = ann2.predict(x_test)"
   ]
  },
  {
   "cell_type": "code",
   "execution_count": 18,
   "metadata": {},
   "outputs": [
    {
     "name": "stdout",
     "output_type": "stream",
     "text": [
      "Accuracy (ANN2): 96.64166666666667 %\n"
     ]
    }
   ],
   "source": [
    "accuracy_ann2 = accuracy_score(y_test, y_pred_ann2)\n",
    "print(\"Accuracy (ANN2):\", (accuracy_ann2*100), \"%\")"
   ]
  },
  {
   "cell_type": "code",
   "execution_count": 19,
   "metadata": {},
   "outputs": [
    {
     "name": "stdout",
     "output_type": "stream",
     "text": [
      "Best ANN architecture: ANN1\n"
     ]
    }
   ],
   "source": [
    "# Choose the best model based on validation accuracy\n",
    "best_ann = ann1 if accuracy_ann1 >= accuracy_ann2 else ann2\n",
    "print(\"Best ANN architecture:\", \"ANN1\" if accuracy_ann1 >= accuracy_ann2 else \"ANN2\")"
   ]
  },
  {
   "cell_type": "code",
   "execution_count": 20,
   "metadata": {},
   "outputs": [
    {
     "name": "stdout",
     "output_type": "stream",
     "text": [
      "Classification Report (Testing Data):\n",
      "               precision    recall  f1-score   support\n",
      "\n",
      "           0       0.99      0.98      0.98      1185\n",
      "           1       0.99      0.99      0.99      1365\n",
      "           2       0.97      0.97      0.97      1152\n",
      "           3       0.96      0.98      0.97      1247\n",
      "           4       0.98      0.96      0.97      1196\n",
      "           5       0.97      0.96      0.97      1089\n",
      "           6       0.99      0.97      0.98      1198\n",
      "           7       0.96      0.98      0.97      1230\n",
      "           8       0.97      0.96      0.96      1206\n",
      "           9       0.94      0.97      0.96      1132\n",
      "\n",
      "    accuracy                           0.97     12000\n",
      "   macro avg       0.97      0.97      0.97     12000\n",
      "weighted avg       0.97      0.97      0.97     12000\n",
      "\n"
     ]
    }
   ],
   "source": [
    "# Print a report for the best ANN on the testing data\n",
    "report_test = classification_report(y_test, best_ann.predict(x_test))\n",
    "print(\"Classification Report (Testing Data):\\n\", report_test)"
   ]
  },
  {
   "cell_type": "code",
   "execution_count": 21,
   "metadata": {},
   "outputs": [
    {
     "name": "stdout",
     "output_type": "stream",
     "text": [
      "Confusion Matrix (Best ANN):\n",
      " [[1160    1    3    3    2    2    2    3    7    2]\n",
      " [   0 1348    3    3    1    1    1    2    3    3]\n",
      " [   2    2 1114    8    3    0    2   15    4    2]\n",
      " [   0    0    6 1216    0    6    0    9    5    5]\n",
      " [   1    4    3    1 1151    0    3    6    0   27]\n",
      " [   0    0    4   18    1 1045    4    5    6    6]\n",
      " [   5    2    1    2    5    7 1168    2    6    0]\n",
      " [   1    5    4    4    3    1    1 1204    1    6]\n",
      " [   1    2    7   14    2    6    2    3 1156   13]\n",
      " [   5    1    0    4    6    4    0    9    4 1099]]\n"
     ]
    }
   ],
   "source": [
    "from sklearn.metrics import confusion_matrix\n",
    "\n",
    "# Get the confusion matrix of the best model\n",
    "conf_matrix_ann = confusion_matrix(y_test, best_ann.predict(x_test))\n",
    "print(\"Confusion Matrix (Best ANN):\\n\", conf_matrix_ann)"
   ]
  },
  {
   "cell_type": "code",
   "execution_count": 32,
   "metadata": {},
   "outputs": [
    {
     "data": {
      "image/png": "[encoded data removed]",
      "text/plain": [
       "<Figure size 576x216 with 1 Axes>"
      ]
     },
     "metadata": {},
     "output_type": "display_data"
    }
   ],
   "source": [
    "# Plot the performance comparison as a horizontal bar plot with a smaller y-axis scale\n",
    "labels = ['ANN1', 'ANN2']\n",
    "accuracies = [accuracy_ann1, accuracy_ann2]\n",
    "\n",
    "plt.figure(figsize=(8, 3))  # Smaller height for the plot\n",
    "plt.barh(labels, accuracies, color=['blue', 'orange'])\n",
    "plt.xlabel('Accuracy')\n",
    "plt.title('Performance Comparison between ANN1 and ANN2')\n",
    "plt.xlim(0.94, 0.99)  # Adjusted x-axis limit to focus on differences\n",
    "plt.show()"
   ]
  }
 ],
 "metadata": {
  "kernelspec": {
   "display_name": "Python 3",
   "language": "python",
   "name": "python3"
  },
  "language_info": {
   "codemirror_mode": {
    "name": "ipython",
    "version": 3
   },
   "file_extension": ".py",
   "mimetype": "text/x-python",
   "name": "python",
   "nbconvert_exporter": "python",
   "pygments_lexer": "ipython3",
   "version": "3.7.6"
  }
 },
 "nbformat": 4,
 "nbformat_minor": 2
}
