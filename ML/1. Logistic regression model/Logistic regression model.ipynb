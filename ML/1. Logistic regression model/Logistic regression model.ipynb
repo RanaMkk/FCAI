{
 "cells": [
  {
   "cell_type": "code",
   "execution_count": 18,
   "metadata": {},
   "outputs": [],
   "source": [
    "import numpy as np"
   ]
  },
  {
   "cell_type": "code",
   "execution_count": 19,
   "metadata": {},
   "outputs": [
    {
     "name": "stdout",
     "output_type": "stream",
     "text": [
      "----------------------\n",
      "Logistic regression model:\n"
     ]
    }
   ],
   "source": [
    "print('----------------------')\n",
    "print('Logistic regression model:')\n",
    "# Logistic regression model\n",
    "#Logistic regression Algorithm: σ(z)\n",
    "#1. Define the Sigmoid Function\n",
    "#2. Initialize Parameters (θ and B)\n",
    "#3. Compute the Linear Combination: z = θ1x1+θ2x2+…+θnx n+b\n",
    "#4. Apply the Sigmoid Function: y = σ(z)\n",
    "#5. Define the Cost Function: J(θ)=− 1/m∑[y(i)log(y)+(1−y)log(1− y)]\n",
    "#6. Gradient Descent\n",
    "#    θj=θj−α∂j/∂θj\n",
    "#    b = b + −α∂j/∂b"
   ]
  },
  {
   "cell_type": "code",
   "execution_count": 20,
   "metadata": {},
   "outputs": [],
   "source": [
    "\n",
    "def sigmoid(z):\n",
    "    # Converting z to array of floats\n",
    "    z = np.array(z, dtype=float)\n",
    "    # Calculating sigmoid\n",
    "    return 1 / (1 + np.exp(-z))\n",
    "\n",
    "def initialize_parameters(dim):\n",
    "    # Initialize weights and bias to zero\n",
    "    theta = np.zeros((1, dim))\n",
    "    b = 0\n",
    "    return theta, b\n",
    "\n",
    "def linear_combination(X, w, b):\n",
    "    return np.dot(X, w.T) + b\n",
    "\n",
    "def compute_cost(y, y_hat):\n",
    "    m = len(y)\n",
    "    return -1/m * np.sum(y * np.log(y_hat) + (1 - y) * np.log(1 - y_hat))"
   ]
  },
  {
   "cell_type": "code",
   "execution_count": 21,
   "metadata": {},
   "outputs": [],
   "source": [
    "\n",
    "def predict(X, w, b):\n",
    "    z = linear_combination(X, w, b)\n",
    "    return sigmoid(z)"
   ]
  },
  {
   "cell_type": "code",
   "execution_count": 22,
   "metadata": {},
   "outputs": [],
   "source": [
    "def gradient_descent(X, y, w, b, learning_rate, num_iterations):\n",
    "    m = len(y)\n",
    "    for i in range(num_iterations):\n",
    "        # Compute linear combination\n",
    "        z = linear_combination(X, w, b)\n",
    "        # Apply sigmoid function and reshape\n",
    "        y_hat = sigmoid(z).reshape(-1)\n",
    "        # Compute cost\n",
    "        cost = compute_cost(y, y_hat)\n",
    "        # Compute gradients\n",
    "        dw = 1/m * np.dot(X.T, (y_hat - y))\n",
    "        db = 1/m * np.sum(y_hat - y)\n",
    "        # Update parameters\n",
    "        w -= (learning_rate * dw.T).astype(float)  # Transpose dw before updating weights\n",
    "        b -= learning_rate * db\n",
    "        # Print cost every 100 iterations\n",
    "        if i % 200 == 0:\n",
    "            print(f\"Cost after iteration {i}: {cost}\")\n",
    "    return w, b"
   ]
  },
  {
   "cell_type": "code",
   "execution_count": 23,
   "metadata": {},
   "outputs": [],
   "source": [
    "\n",
    "# Calculate accuracy function\n",
    "def accuracy(X, y, w, b):\n",
    "    predictions = predict(X, w, b)\n",
    "    predictions_as_binary = ((predictions >= 0.5).astype(int)).reshape(-1)\n",
    "    correct_predictions = (predictions_as_binary == y).sum()\n",
    "    accuracy = (correct_predictions / len(y)) * 100\n",
    "    return accuracy"
   ]
  }
 ],
 "metadata": {
  "kernelspec": {
   "display_name": "Python 3",
   "language": "python",
   "name": "python3"
  },
  "language_info": {
   "codemirror_mode": {
    "name": "ipython",
    "version": 3
   },
   "file_extension": ".py",
   "mimetype": "text/x-python",
   "name": "python",
   "nbconvert_exporter": "python",
   "pygments_lexer": "ipython3",
   "version": "3.7.6"
  }
 },
 "nbformat": 4,
 "nbformat_minor": 2
}
